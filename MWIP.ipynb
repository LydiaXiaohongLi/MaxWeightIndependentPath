{
 "cells": [
  {
   "cell_type": "code",
   "execution_count": 11,
   "metadata": {},
   "outputs": [],
   "source": [
    "import copy\n",
    "import sys\n",
    "sys.setrecursionlimit(10000)\n",
    "with open(r'Data\\mwis.txt','r') as f:\n",
    "    weight_list=[int(line.rstrip()) for line in f][1:]"
   ]
  },
  {
   "cell_type": "code",
   "execution_count": 12,
   "metadata": {},
   "outputs": [],
   "source": [
    "class MWIS(object):\n",
    "    def __init__(self, weight_list):\n",
    "        self.weight_list=copy.deepcopy(weight_list)\n",
    "        self.size=len(self.weight_list)\n",
    "    def get_mwis(self):\n",
    "        #mwis, list stores the maximum weight independent set's total weight up to current node.\n",
    "        #i.e. mwis[i] cell stores the total weight for maximum weight independent set for node1 to i+1\n",
    "        self.mwis=[]\n",
    "        #mwis_node stores the list of node labels that is part of maximum weight independent set\n",
    "        self.mwis_node=[]        \n",
    "        self.mwis.append(self.weight_list[0])\n",
    "        self.mwis.append(max(self.weight_list[0],self.weight_list[1]))\n",
    "        for i in range(2, self.size):\n",
    "            self.mwis.append(max(self.mwis[i-1],self.mwis[i-2]+self.weight_list[i]))\n",
    "        self.get_mwis_node_set()\n",
    "    def get_mwis_node_set(self):\n",
    "        i=self.size\n",
    "        while i>1:            \n",
    "            if self.mwis[i-1] > self.mwis[i-2]:\n",
    "                self.mwis_node.append(i)\n",
    "                k=i-2\n",
    "                while (self.mwis[k-1] != self.mwis[i-1]-self.weight_list[i-1]) & (k>0):\n",
    "                    k=k-1\n",
    "                i=k\n",
    "            else:\n",
    "                i=i-1\n",
    "        if i==1:\n",
    "            self.mwis_node.append(i)\n",
    "            return\n",
    "        if i==0:\n",
    "            return        \n",
    "        \n",
    "    def check_node_i_in_mwis_node_set(self,i):\n",
    "        if i in self.mwis_node:\n",
    "            return True\n",
    "            "
   ]
  },
  {
   "cell_type": "code",
   "execution_count": 13,
   "metadata": {},
   "outputs": [
    {
     "name": "stdout",
     "output_type": "stream",
     "text": [
      "1\n",
      "0\n",
      "1\n",
      "0\n",
      "0\n",
      "0\n",
      "0\n",
      "0\n"
     ]
    }
   ],
   "source": [
    "mwis=MWIS(weight_list)\n",
    "mwis.get_mwis()\n",
    "if mwis.check_node_i_in_mwis_node_set(1)==True:\n",
    "    print(1)\n",
    "else:\n",
    "    print(0)\n",
    "if mwis.check_node_i_in_mwis_node_set(2)==True:\n",
    "    print(1)\n",
    "else:\n",
    "    print(0)\n",
    "if mwis.check_node_i_in_mwis_node_set(3)==True:\n",
    "    print(1)\n",
    "else:\n",
    "    print(0)\n",
    "if mwis.check_node_i_in_mwis_node_set(4)==True:\n",
    "    print(1)\n",
    "else:\n",
    "    print(0)\n",
    "if mwis.check_node_i_in_mwis_node_set(17)==True:\n",
    "    print(1)\n",
    "else:\n",
    "    print(0)\n",
    "if mwis.check_node_i_in_mwis_node_set(117)==True:\n",
    "    print(1)\n",
    "else:\n",
    "    print(0)\n",
    "if mwis.check_node_i_in_mwis_node_set(517)==True:\n",
    "    print(1)\n",
    "else:\n",
    "    print(0)\n",
    "if mwis.check_node_i_in_mwis_node_set(997)==True:\n",
    "    print(1)\n",
    "else:\n",
    "    print(0)   \n",
    "#Tested"
   ]
  }
 ],
 "metadata": {
  "kernelspec": {
   "display_name": "Python 3",
   "language": "python",
   "name": "python3"
  },
  "language_info": {
   "codemirror_mode": {
    "name": "ipython",
    "version": 3
   },
   "file_extension": ".py",
   "mimetype": "text/x-python",
   "name": "python",
   "nbconvert_exporter": "python",
   "pygments_lexer": "ipython3",
   "version": "3.6.4"
  }
 },
 "nbformat": 4,
 "nbformat_minor": 2
}
